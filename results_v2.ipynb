{
 "cells": [
  {
   "cell_type": "markdown",
   "metadata": {},
   "source": [
    "# Results for Most recent Data Update\n",
    "\n",
    "### 1. Dataset exploration and Counts\n",
    "####  - Use all previous data as the training Data and get stats. How many UMR roles do we have? From how many AMR roles? \n",
    "    - smart k-folds on training data - F1\n",
    "    - extended evaluation on all training data - F1\n",
    "####  - try to recreate dataset splits on augmented data\n",
    "\n",
    "### 3. Create results.py to do some calculations for us\n"
   ]
  },
  {
   "cell_type": "code",
   "execution_count": 5,
   "metadata": {},
   "outputs": [],
   "source": [
    "import pandas as pd\n",
    "import ast"
   ]
  },
  {
   "cell_type": "code",
   "execution_count": 27,
   "metadata": {},
   "outputs": [],
   "source": [
    "## Load in all of the data\n",
    "test_data = pd.read_csv(\"input_data/data augmentation - Combined data.csv\", low_memory=False)\n",
    "test_data = test_data.dropna(subset=['y_gold'], inplace=False)\n",
    "test_data = test_data.reset_index()\n",
    "test_data.to_csv(\"input_data/annotated_470.csv\")\n"
   ]
  },
  {
   "cell_type": "code",
   "execution_count": 15,
   "metadata": {},
   "outputs": [
    {
     "name": "stdout",
     "output_type": "stream",
     "text": [
      "     index    ID  FIle  sent_i  \\\n",
      "0        0  27.0     1      13   \n",
      "1        1  29.0     1      14   \n",
      "2        2  42.0     1      18   \n",
      "3        3  44.0     1      18   \n",
      "4        4  45.0     1      18   \n",
      "..     ...   ...   ...     ...   \n",
      "465  76227   NaN     9    6130   \n",
      "466  76232   NaN     9    6487   \n",
      "467  76233   NaN     9    6813   \n",
      "468  76243   NaN     9    7806   \n",
      "469  76246   NaN    10      25   \n",
      "\n",
      "                                                  sent  \\\n",
      "0    If the simulation program was well designed, c...   \n",
      "1    Instead in this instance the Liberation Army h...   \n",
      "2    The lack or serious shortage of intermediate l...   \n",
      "3    The lack or serious shortage of intermediate l...   \n",
      "4    The lack or serious shortage of intermediate l...   \n",
      "..                                                 ...   \n",
      "465  On 20 October 2003 Krasniqi was deported to Al...   \n",
      "466  Afriforum stated that the group would organize...   \n",
      "467  Thomas Olsson stated that the lawyers for Al-B...   \n",
      "468  Russia's military incursion into Georgia indic...   \n",
      "469  When I came back and looked , the dried tofu w...   \n",
      "\n",
      "                                               ne_info  \\\n",
      "0                                                   []   \n",
      "1    [{'ORG': 'Liberation Army'}, {'LOC': 'Wenchuan...   \n",
      "2    [{'ORG': 'Party'}, {'W_Inanimate': 'thing'}, {...   \n",
      "3    [{'ORG': 'Party'}, {'W_Inanimate': 'thing'}, {...   \n",
      "4    [{'ORG': 'Party'}, {'W_Inanimate': 'thing'}, {...   \n",
      "..                                                 ...   \n",
      "465  [{'PER': 'Krasniqi'}, {'LOC': 'Albania'}, {'W_...   \n",
      "466  [{'ORG': 'Afriforum'}, {'LOC': 'Zimbabwe'}, {'...   \n",
      "467  [{'PER': 'Thomas Olsson'}, {'ORG': 'Al-Barakaa...   \n",
      "468  [{'LOC': 'Russia'}, {'LOC': 'Georgia'}, {'LOC'...   \n",
      "469                                     [{'PER': 'I'}]   \n",
      "\n",
      "                                            amr_prints  \\\n",
      "0    (r4 / recommend-01\\n  :ARG1 (c3 / conform-01\\n...   \n",
      "1    (m2 / multi-sentence\\n  :snt1 (p / plan-01\\n  ...   \n",
      "2    (r / result-01\\n  :ARG1 (o / or\\n  :op1 (l / l...   \n",
      "3    (r / result-01\\n  :ARG1 (o / or\\n  :op1 (l / l...   \n",
      "4    (r / result-01\\n  :ARG1 (o / or\\n  :op1 (l / l...   \n",
      "..                                                 ...   \n",
      "465  (d2 / deport-01\\n      :ARG1 (p / person :wiki...   \n",
      "466  (s / state-01\\n      :ARG0 (g / group :wiki \"A...   \n",
      "467  (s / state-01\\n      :ARG0 (p / person :wiki -...   \n",
      "468  (i / indicate-01\\n      :ARG0 (i2 / incursion\\...   \n",
      "469  (a / and\\n      :op1 (w / white-03\\n          ...   \n",
      "\n",
      "                              amr_graph amr_head_name amr_tail_name  ...  \\\n",
      "0    DiGraph with 22 nodes and 21 edges  recommend-01     design-01  ...   \n",
      "1    DiGraph with 65 nodes and 64 edges       plan-01      cause-01  ...   \n",
      "2    DiGraph with 44 nodes and 43 edges   possible-01       have-03  ...   \n",
      "3    DiGraph with 44 nodes and 43 edges     result-01      cause-01  ...   \n",
      "4    DiGraph with 44 nodes and 43 edges       last-01      cause-01  ...   \n",
      "..                                  ...           ...           ...  ...   \n",
      "465  DiGraph with 13 nodes and 12 edges     deport-01       country  ...   \n",
      "466  DiGraph with 14 nodes and 13 edges         route       country  ...   \n",
      "467  DiGraph with 40 nodes and 39 edges    release-01        person  ...   \n",
      "468  DiGraph with 16 nodes and 15 edges     incursion       country  ...   \n",
      "469  DiGraph with 16 nodes and 15 edges       come-01          back  ...   \n",
      "\n",
      "    amr_head_id umr_head_id amr_tail_id umr_tail_id    animacy  \\\n",
      "0          r4_0        r4_0        d_18        d_18  inanimate   \n",
      "1           p_1       c2_11       c2_11         p_1  inanimate   \n",
      "2          p_16        p_16        h_22        h_22  inanimate   \n",
      "3           r_0       c4_37       c2_27       l3_28  inanimate   \n",
      "4         l3_28       c4_37       c4_37       l3_28  inanimate   \n",
      "..          ...         ...         ...         ...        ...   \n",
      "465        d2_0        d2_0         c_5         c_5  inanimate   \n",
      "466         r_9         r_9        c_10        c_10  inanimate   \n",
      "467        r_18        r_18       p2_20         p_1    animate   \n",
      "468        i2_1        i2_1        c2_7         c_3  inanimate   \n",
      "469        c_11        c_11        b_13        b_13  inanimate   \n",
      "\n",
      "                   y_guess y_guess_dist  \\\n",
      "0           [':condition']        [1.0]   \n",
      "1    [':cause', ':reason']   [0.9, 0.1]   \n",
      "2           [':condition']        [1.0]   \n",
      "3    [':cause', ':reason']   [0.9, 0.1]   \n",
      "4    [':cause', ':reason']   [0.9, 0.1]   \n",
      "..                     ...          ...   \n",
      "465                    NaN          NaN   \n",
      "466                    NaN          NaN   \n",
      "467                    NaN          NaN   \n",
      "468                    NaN          NaN   \n",
      "469                    NaN          NaN   \n",
      "\n",
      "                                                y_pred      y_gold counts  \n",
      "0    [':condition', ':condition', ':condition', ':c...  :condition    1.0  \n",
      "1    [':cause', ':reason', ':cause', ':cause', ':ca...      :cause    1.0  \n",
      "2    [':condition', ':condition', ':condition', ':c...  :condition    1.0  \n",
      "3    [':cause', ':cause', ':cause', ':cause', ':cau...      :cause    1.0  \n",
      "4    [':reason', ':cause', ':cause', ':cause', ':ca...      :cause    1.0  \n",
      "..                                                 ...         ...    ...  \n",
      "465                                                NaN       :goal    1.0  \n",
      "466                                                NaN       :goal    1.0  \n",
      "467                                                NaN  :recipient    1.0  \n",
      "468                                                NaN       :goal    1.0  \n",
      "469                                                NaN       :goal    1.0  \n",
      "\n",
      "[470 rows x 24 columns]\n"
     ]
    }
   ],
   "source": [
    "print(test_data)"
   ]
  },
  {
   "cell_type": "code",
   "execution_count": 23,
   "metadata": {},
   "outputs": [],
   "source": [
    "train_data = pd.read_csv(\"input_data/train_data.csv\")\n",
    "\n",
    "train_data = train_data.merge(pd.read_csv(\"input_data/rules_train.csv\"))\n",
    "train_data2 = pd.read_csv(\"input_data/test_data.csv\")\n",
    "train_data2 = train_data2.merge(pd.read_csv(\"input_data/rules_test.csv\"))\n",
    "\n",
    "\n",
    "train_data = pd.concat([train_data2], axis = 1) #original data combined with original test data. now acts as the training data\n",
    "\n"
   ]
  },
  {
   "cell_type": "code",
   "execution_count": null,
   "metadata": {},
   "outputs": [],
   "source": [
    "print(train_data)\n",
    "#get the stratified k-folds. we can run all the stratified k-folds on the training data, get the answers, and then"
   ]
  },
  {
   "cell_type": "code",
   "execution_count": null,
   "metadata": {},
   "outputs": [],
   "source": [
    "train_data['ne_info'].apply(ast.literal_eval)\n",
    "test_data['ne_info'].apply(ast.literal_eval)"
   ]
  },
  {
   "cell_type": "markdown",
   "metadata": {},
   "source": [
    "### Results for Baseline\n",
    "Next plan: Combine all data lives in combined?"
   ]
  },
  {
   "cell_type": "code",
   "execution_count": null,
   "metadata": {},
   "outputs": [],
   "source": []
  }
 ],
 "metadata": {
  "kernelspec": {
   "display_name": "Python 3",
   "language": "python",
   "name": "python3"
  },
  "language_info": {
   "codemirror_mode": {
    "name": "ipython",
    "version": 3
   },
   "file_extension": ".py",
   "mimetype": "text/x-python",
   "name": "python",
   "nbconvert_exporter": "python",
   "pygments_lexer": "ipython3",
   "version": "3.10.13"
  }
 },
 "nbformat": 4,
 "nbformat_minor": 2
}
