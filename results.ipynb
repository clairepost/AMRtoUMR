{
 "cells": [
  {
   "cell_type": "markdown",
   "metadata": {},
   "source": [
    "# Final Project Results and Metrics"
   ]
  },
  {
   "cell_type": "code",
   "execution_count": 45,
   "metadata": {},
   "outputs": [],
   "source": [
    "import random\n",
    "import os\n",
    "import matplotlib.pyplot as plt\n",
    "import pandas as pd\n",
    "from sklearn.metrics import accuracy_score, confusion_matrix,classification_report\n",
    "import numpy as np\n",
    "import ast\n",
    "#import the models\n",
    "import baseline\n",
    "import nn_with_rules\n",
    "import base_nn\n",
    "\n",
    "\n",
    "\n",
    "random.seed(0) # set a seed for reproducibility"
   ]
  },
  {
   "cell_type": "markdown",
   "metadata": {},
   "source": [
    "### Run Models or Load in from output\n"
   ]
  },
  {
   "cell_type": "code",
   "execution_count": 23,
   "metadata": {},
   "outputs": [],
   "source": [
    "baseline_output = \"output/baseline_test.csv\"\n",
    "base_nn_output = \"output/base_nn_test.csv\"\n",
    "nn_with_rules_output = \"output/nn_with_rules_test.csv\"\n",
    "\n",
    "num_iters = 20 # number of times to run the baseline model if not loading it in\n",
    "\n",
    "#get baseline (just rules based results)\n",
    "if os.path.exists(baseline_output):\n",
    "    baseline_df = pd.read_csv(baseline_output)\n",
    "else:\n",
    "    baseline_df= baseline.run_baseline(num_iters)\n",
    "#get base_nn results\n",
    "if os.path.exists(base_nn_output):\n",
    "    base_nn_df = pd.read_csv(base_nn_output)\n",
    "else:\n",
    "    base_nn_df = base_nn.run_base_nn()\n",
    "#get nn_with_rules results\n",
    "if os.path.exists(nn_with_rules_output):\n",
    "    nn_with_rules_df = pd.read_csv(nn_with_rules_output)\n",
    "else:\n",
    "    nn_with_rules_df = nn_with_rules.run_nn_with_rules()\n",
    "\n",
    "baseline_df['y_pred'] = baseline_df['y_pred'].apply(ast.literal_eval)#this is a list of the output over x num of runs so treat it like a list\n",
    " "
   ]
  },
  {
   "cell_type": "markdown",
   "metadata": {},
   "source": [
    "### Make sure that the results dfs are comparable"
   ]
  },
  {
   "cell_type": "code",
   "execution_count": 24,
   "metadata": {},
   "outputs": [
    {
     "name": "stdout",
     "output_type": "stream",
     "text": [
      "(65, 21)\n",
      "(65, 21)\n",
      "(65, 21)\n",
      "Index(['Unnamed: 0.2', 'Unnamed: 0', 'file', 'sent_i', 'sent', 'ne_info',\n",
      "       'amr_graph', 'amr_head_name', 'amr_tail_name', 'amr_role',\n",
      "       'umr_head_name', 'umr_tail_name', 'umr_role', 'amr_head_id',\n",
      "       'umr_head_id', 'amr_tail_id', 'umr_tail_id', 'Unnamed: 0.1', 'y_guess',\n",
      "       'y_guess_dist', 'y_pred'],\n",
      "      dtype='object')\n"
     ]
    }
   ],
   "source": [
    "print(baseline_df.shape) # TODO: figure out why they aren't the same size, doing a different preprocessing approach for this\n",
    "print(base_nn_df.shape)\n",
    "print(nn_with_rules_df.shape)\n",
    "\n",
    "print(baseline_df.columns)"
   ]
  },
  {
   "cell_type": "code",
   "execution_count": 25,
   "metadata": {},
   "outputs": [
    {
     "name": "stdout",
     "output_type": "stream",
     "text": [
      "BASELINE (20x iterations)\n",
      "0    [:condition, :condition, :condition, :conditio...\n",
      "1    [:mod, :mod, :mod, :mod, :mod, :mod, :mod, :mo...\n",
      "2    [:mod, :mod, :mod, :mod, :mod, :mod, :mod, :mo...\n",
      "3    [:mod, :mod, :mod, :mod, :mod, :mod, :mod, :mo...\n",
      "4    [:mod, :mod, :mod, :mod, :mod, :mod, :mod, :mo...\n",
      "Name: y_pred, dtype: object\n",
      "BASE NN\n",
      "0    :condition\n",
      "1          :mod\n",
      "2          :mod\n",
      "3          :mod\n",
      "4          :mod\n",
      "Name: y_pred, dtype: object\n",
      "NN with RULES\n",
      "0    :condition\n",
      "1          :mod\n",
      "2          :mod\n",
      "3          :mod\n",
      "4          :mod\n",
      "Name: y_pred, dtype: object\n"
     ]
    }
   ],
   "source": [
    "print(\"BASELINE (20x iterations)\")\n",
    "print(baseline_df[\"y_pred\"][0:5])\n",
    "\n",
    "print(\"BASE NN\")\n",
    "print(base_nn_df[\"y_pred\"][0:5])\n",
    "\n",
    "print(\"NN with RULES\")\n",
    "print(nn_with_rules_df[\"y_pred\"][0:5])\n"
   ]
  },
  {
   "cell_type": "code",
   "execution_count": 35,
   "metadata": {},
   "outputs": [
    {
     "name": "stdout",
     "output_type": "stream",
     "text": [
      "{'baseline': 0.8284615384615386, 'base_nn': 0.8769230769230769, 'nn with rules': 0.8615384615384616}\n"
     ]
    }
   ],
   "source": [
    "def get_accuracy(df):\n",
    "    # Extract values from DataFrame columns\n",
    "    y_true = df['umr_role'].values\n",
    "    y_preds_list = df['y_pred'].values\n",
    "\n",
    "    # Calculate accuracy\n",
    "\n",
    "    if type(y_preds_list[0]) == list:\n",
    "        y_preds_transposed = list(map(list, zip(*y_preds_list)))\n",
    "        \n",
    "        # Compute accuracy for each set of predictions\n",
    "        accuracies = [accuracy_score(y_true, y_preds) for y_preds in y_preds_transposed]\n",
    "        \n",
    "\n",
    "        # Compute average accuracy\n",
    "        accuracy = np.mean(accuracies) \n",
    "    else:\n",
    "        accuracy = accuracy_score(y_true, y_preds_list)\n",
    "    return accuracy\n",
    "\n",
    "total_acc = {\"baseline\": get_accuracy(baseline_df),\n",
    "             \"base_nn\": get_accuracy(base_nn_df),\n",
    "             \"nn with rules\": get_accuracy(nn_with_rules_df)}\n",
    "\n",
    "print(total_acc)"
   ]
  },
  {
   "cell_type": "code",
   "execution_count": 40,
   "metadata": {},
   "outputs": [
    {
     "data": {
      "image/png": "[encoded data removed]",
      "text/plain": [
       "<Figure size 640x480 with 1 Axes>"
      ]
     },
     "metadata": {},
     "output_type": "display_data"
    }
   ],
   "source": [
    "def plot_dict(data, title):\n",
    "    # Extract x and y values from the dictionary\n",
    "    x_values = list(data.keys())\n",
    "    y_values = list(data.values())\n",
    "\n",
    "    # Plotting\n",
    "    plt.bar(x_values, y_values)\n",
    "    plt.xlabel('Model')\n",
    "    plt.ylabel('Accuracy')\n",
    "    plt.title(title)\n",
    "    plt.show()\n",
    "\n",
    "plot_dict(total_acc, \"Total Accuracy\")\n"
   ]
  },
  {
   "cell_type": "code",
   "execution_count": 94,
   "metadata": {},
   "outputs": [
    {
     "name": "stdout",
     "output_type": "stream",
     "text": [
      "              precision    recall  f1-score   support\n",
      "\n",
      "      :cause       0.20      1.00      0.33         1\n",
      "  :condition       1.00      1.00      1.00         1\n",
      "       :goal       1.00      1.00      1.00         2\n",
      "   :material       0.00      0.00      0.00         1\n",
      "        :mod       0.92      1.00      0.96        46\n",
      " :other-role       0.00      0.00      0.00         3\n",
      "       :part       1.00      1.00      1.00         1\n",
      "     :reason       0.00      0.00      0.00         4\n",
      "     :source       1.00      1.00      1.00         6\n",
      "\n",
      "    accuracy                           0.88        65\n",
      "   macro avg       0.57      0.67      0.59        65\n",
      "weighted avg       0.81      0.88      0.84        65\n",
      "\n",
      "{':cause': 0.33333333333333337, ':condition': 1.0, ':goal': 1.0, ':material': 0.0, ':mod': 0.9583333333333334, ':other-role': 0.0, ':part': 1.0, ':reason': 0.0, ':source': 1.0, ':start': 0}\n",
      "              precision    recall  f1-score   support\n",
      "\n",
      "      :cause       0.20      1.00      0.33         1\n",
      "  :condition       1.00      1.00      1.00         1\n",
      "       :goal       1.00      1.00      1.00         2\n",
      "   :material       0.00      0.00      0.00         1\n",
      "        :mod       0.92      1.00      0.96        46\n",
      " :other-role       0.00      0.00      0.00         3\n",
      "       :part       1.00      1.00      1.00         1\n",
      "     :reason       0.00      0.00      0.00         4\n",
      "     :source       1.00      0.83      0.91         6\n",
      "      :start       0.00      0.00      0.00         0\n",
      "\n",
      "    accuracy                           0.86        65\n",
      "   macro avg       0.51      0.58      0.52        65\n",
      "weighted avg       0.81      0.86      0.83        65\n",
      "\n",
      "{':cause': 0.33333333333333337, ':condition': 1.0, ':goal': 1.0, ':material': 0.0, ':mod': 0.9583333333333334, ':other-role': 0.0, ':part': 1.0, ':reason': 0.0, ':source': 0.9090909090909091, ':start': 0.0}\n",
      "{':cause': 0.3616666666666667, ':condition': 1.0, ':goal': 1.0, ':material': 0.0, ':mod': 0.9533874580067188, ':other-role': 0.0, ':part': 1.0, ':reason': 0.15333333333333332, ':source': 0.6306926406926407, ':start': 0.0}\n"
     ]
    }
   ],
   "source": [
    "def get_per_class_f1(df):\n",
    "    y_true = df[\"umr_role\"]\n",
    "    y_pred = df[\"y_pred\"]\n",
    "\n",
    "    if type(y_pred[0]) == list: #baseline with 20 runs, get the average per class f1\n",
    "        y_preds_transposed = list(map(list, zip(*y_pred)))\n",
    "        \n",
    "        f1_dicts = {}\n",
    "        for i in range(len(y_preds_transposed)):\n",
    "            report = classification_report(y_true, y_preds_transposed[i], output_dict = True,zero_division=0.0)\n",
    "            \n",
    "            class_labels = [label for label in report.keys()]\n",
    "            f1_scores = []\n",
    "            for label in class_labels:\n",
    "                if label[0] == \":\":\n",
    "                    f1_scores.append(report[label]['f1-score'])\n",
    "            f1_dict = dict(zip(class_labels, f1_scores))\n",
    "            f1_dicts[i] = f1_dict\n",
    "\n",
    "        #make sure they all have the same keys:\n",
    "            # Find the union of all keys in the interior dictionaries\n",
    "        all_keys = set().union(*f1_dicts.values())\n",
    "\n",
    "        # Update each interior dictionary with missing keys, assigning them a value of 0\n",
    "        for entry in f1_dicts.values():\n",
    "            for key in all_keys:\n",
    "                entry.setdefault(key, 0)\n",
    "        \n",
    "        averages_dict = {}\n",
    "        # Iterate over the keys ('cause' and 'reason')\n",
    "        for key in f1_dicts[0].keys():\n",
    "            # Calculate the average for each key\n",
    "            average_value = np.mean([entry[key] for entry in f1_dicts.values()])\n",
    "            # Store the result in the averages_dict\n",
    "            averages_dict[key] = average_value\n",
    "\n",
    "        return averages_dict\n",
    "        \n",
    "    else:\n",
    "        report = classification_report(y_true, y_pred, output_dict = True,zero_division=0.0)\n",
    "        print(classification_report(y_true, y_pred, zero_division=0.0))\n",
    "        class_labels = [label for label in report.keys()]\n",
    "        f1_scores = []\n",
    "        for label in class_labels:\n",
    "            if label[0] == \":\":\n",
    "                f1_scores.append(report[label]['f1-score'])\n",
    "        \n",
    "        f1_dict = dict(zip(class_labels, f1_scores))\n",
    "        if \":start\" not in f1_dict:\n",
    "            f1_dict[\":start\"] = 0\n",
    "    return f1_dict\n",
    "    \n",
    "\n",
    "print(get_per_class_f1(base_nn_df))\n",
    "print(get_per_class_f1(nn_with_rules_df))\n",
    "print(get_per_class_f1(baseline_df))\n",
    "\n",
    "    "
   ]
  },
  {
   "cell_type": "code",
   "execution_count": 95,
   "metadata": {},
   "outputs": [
    {
     "name": "stdout",
     "output_type": "stream",
     "text": [
      "              precision    recall  f1-score   support\n",
      "\n",
      "      :cause       0.20      1.00      0.33         1\n",
      "  :condition       1.00      1.00      1.00         1\n",
      "       :goal       1.00      1.00      1.00         2\n",
      "   :material       0.00      0.00      0.00         1\n",
      "        :mod       0.92      1.00      0.96        46\n",
      " :other-role       0.00      0.00      0.00         3\n",
      "       :part       1.00      1.00      1.00         1\n",
      "     :reason       0.00      0.00      0.00         4\n",
      "     :source       1.00      1.00      1.00         6\n",
      "\n",
      "    accuracy                           0.88        65\n",
      "   macro avg       0.57      0.67      0.59        65\n",
      "weighted avg       0.81      0.88      0.84        65\n",
      "\n",
      "              precision    recall  f1-score   support\n",
      "\n",
      "      :cause       0.20      1.00      0.33         1\n",
      "  :condition       1.00      1.00      1.00         1\n",
      "       :goal       1.00      1.00      1.00         2\n",
      "   :material       0.00      0.00      0.00         1\n",
      "        :mod       0.92      1.00      0.96        46\n",
      " :other-role       0.00      0.00      0.00         3\n",
      "       :part       1.00      1.00      1.00         1\n",
      "     :reason       0.00      0.00      0.00         4\n",
      "     :source       1.00      0.83      0.91         6\n",
      "      :start       0.00      0.00      0.00         0\n",
      "\n",
      "    accuracy                           0.86        65\n",
      "   macro avg       0.51      0.58      0.52        65\n",
      "weighted avg       0.81      0.86      0.83        65\n",
      "\n"
     ]
    },
    {
     "data": {
      "image/png": "[encoded data removed]",
      "text/plain": [
       "<Figure size 640x480 with 1 Axes>"
      ]
     },
     "metadata": {},
     "output_type": "display_data"
    }
   ],
   "source": [
    "def plot_dicts(model1, model2, model3):\n",
    "\n",
    "\n",
    "    # Extract keys and values\n",
    "    keys = list(model1.keys())\n",
    "    values_model1 = list(model1.values())\n",
    "    values_model2 = list(model2.values())\n",
    "    values_model3 = list(model3.values())\n",
    "\n",
    "    # Set the width of the bars\n",
    "    bar_width = 0.25\n",
    "\n",
    "    # Set the positions for the bars on the x-axis\n",
    "    r1 = range(len(keys))\n",
    "    r2 = [x + bar_width for x in r1]\n",
    "    r3 = [x + bar_width for x in r2]\n",
    "\n",
    "    color_model1 = '#1f78b4'  # Blue\n",
    "    color_model2 = '#ff7f00'  # Orange\n",
    "    color_model3 = '#808080'  # Gray\n",
    "\n",
    "    # Plotting\n",
    "    plt.bar(r1, values_model1, color=color_model1, width=bar_width, edgecolor='grey', label='Base_nn')\n",
    "    plt.bar(r2, values_model2, color=color_model2, width=bar_width, edgecolor='grey', label='NN_with_rules')\n",
    "    plt.bar(r3, values_model3, color=color_model3, width=bar_width, edgecolor='grey', label='baseline_rules')\n",
    "\n",
    "    # Add x-axis labels, y-axis label, and title\n",
    "    plt.xlabel('UMR Label')\n",
    "    plt.ylabel('Values')\n",
    "    plt.title('Comparison of per-class (umr-role) f1 scores')\n",
    "    plt.xticks([r + bar_width for r in range(len(keys))], keys, rotation = 45)\n",
    "\n",
    "    # Add legend\n",
    "    plt.legend()\n",
    "\n",
    "    # Show the plot\n",
    "    plt.show()\n",
    "\n",
    "plot_dicts(get_per_class_f1(base_nn_df),get_per_class_f1(nn_with_rules_df),get_per_class_f1(baseline_df))\n"
   ]
  }
 ],
 "metadata": {
  "kernelspec": {
   "display_name": "UMR",
   "language": "python",
   "name": "python3"
  },
  "language_info": {
   "codemirror_mode": {
    "name": "ipython",
    "version": 3
   },
   "file_extension": ".py",
   "mimetype": "text/x-python",
   "name": "python",
   "nbconvert_exporter": "python",
   "pygments_lexer": "ipython3",
   "version": "3.9.18"
  }
 },
 "nbformat": 4,
 "nbformat_minor": 2
}
