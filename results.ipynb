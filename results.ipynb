{
 "cells": [
  {
   "cell_type": "markdown",
   "metadata": {},
   "source": [
    "# Final Project Results and Metrics"
   ]
  },
  {
   "cell_type": "code",
   "execution_count": 1,
   "metadata": {},
   "outputs": [
    {
     "name": "stderr",
     "output_type": "stream",
     "text": [
      "c:\\Users\\mcg19\\miniconda3\\envs\\UMR\\lib\\site-packages\\tqdm\\auto.py:21: TqdmWarning: IProgress not found. Please update jupyter and ipywidgets. See https://ipywidgets.readthedocs.io/en/stable/user_install.html\n",
      "  from .autonotebook import tqdm as notebook_tqdm\n"
     ]
    }
   ],
   "source": [
    "import random\n",
    "import os\n",
    "import matplotlib\n",
    "import pandas as pd\n",
    "#import the models\n",
    "import baseline\n",
    "import nn_with_rules\n",
    "import base_nn\n",
    "\n",
    "random.seed(0) # set a seed for reproducibility"
   ]
  },
  {
   "cell_type": "markdown",
   "metadata": {},
   "source": [
    "### Run Models or Load in from output\n"
   ]
  },
  {
   "cell_type": "code",
   "execution_count": 2,
   "metadata": {},
   "outputs": [],
   "source": [
    "baseline_output = \"output/baseline_test.csv\"\n",
    "base_nn_output = \"output/base_nn_test.csv\"\n",
    "nn_with_rules_output = \"output/nn_with_rules_test.csv\"\n",
    "\n",
    "num_iters = 20 # number of times to run the baseline model if not loading it in\n",
    "\n",
    "#get baseline (just rules based results)\n",
    "if os.path.exists(baseline_output):\n",
    "    baseline_df = pd.read_csv(baseline_output)\n",
    "else:\n",
    "    baseline_df= baseline.run_baseline(num_iters)\n",
    "#get base_nn results\n",
    "if os.path.exists(base_nn_output):\n",
    "    base_nn_df = pd.read_csv(base_nn_output)\n",
    "else:\n",
    "    base_nn_df = base_nn.run_base_nn()\n",
    "#get nn_with_rules results\n",
    "if os.path.exists(nn_with_rules_output):\n",
    "    nn_with_rules_df = pd.read_csv(nn_with_rules_output)\n",
    "else:\n",
    "    nn_with_rules_df = nn_with_rules.run_nn_with_rules()\n",
    " "
   ]
  },
  {
   "cell_type": "markdown",
   "metadata": {},
   "source": [
    "### Make sure that the results dfs are comparable"
   ]
  },
  {
   "cell_type": "code",
   "execution_count": 3,
   "metadata": {},
   "outputs": [
    {
     "name": "stdout",
     "output_type": "stream",
     "text": [
      "(65, 21)\n",
      "(65, 21)\n",
      "(65, 21)\n"
     ]
    }
   ],
   "source": [
    "print(baseline_df.shape) # TODO: figure out why they aren't the same size, doing a different preprocessing approach for this\n",
    "print(base_nn_df.shape)\n",
    "print(nn_with_rules_df.shape)"
   ]
  }
 ],
 "metadata": {
  "kernelspec": {
   "display_name": "UMR",
   "language": "python",
   "name": "python3"
  },
  "language_info": {
   "codemirror_mode": {
    "name": "ipython",
    "version": 3
   },
   "file_extension": ".py",
   "mimetype": "text/x-python",
   "name": "python",
   "nbconvert_exporter": "python",
   "pygments_lexer": "ipython3",
   "version": "3.9.18"
  }
 },
 "nbformat": 4,
 "nbformat_minor": 2
}
